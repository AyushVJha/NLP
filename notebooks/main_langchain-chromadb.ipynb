{
 "cells": [
  {
   "cell_type": "markdown",
   "id": "6a8e5639-905e-432e-97e9-9228aee58fc8",
   "metadata": {},
   "source": [
    "## Retriever"
   ]
  },
  {
   "cell_type": "code",
   "execution_count": 1,
   "id": "524a66c5-5cc3-488a-b5e1-810ebe362a37",
   "metadata": {},
   "outputs": [],
   "source": [
    "from langchain_community.document_loaders import DirectoryLoader"
   ]
  },
  {
   "cell_type": "code",
   "execution_count": 2,
   "id": "9198eab5-82bb-4231-a95a-0b42f493fafe",
   "metadata": {},
   "outputs": [],
   "source": [
    "from langchain_community.vectorstores import Chroma\n",
    "import chromadb\n",
    "from langchain_community.embeddings import HuggingFaceEmbeddings"
   ]
  },
  {
   "cell_type": "code",
   "execution_count": 3,
   "id": "588692aa-002c-466b-ac38-5ec0ab6b0053",
   "metadata": {},
   "outputs": [
    {
     "name": "stderr",
     "output_type": "stream",
     "text": [
      "/home/vi-b-04/CSEChatbot/venv/lib/python3.10/site-packages/sentence_transformers/cross_encoder/CrossEncoder.py:11: TqdmExperimentalWarning: Using `tqdm.autonotebook.tqdm` in notebook mode. Use `tqdm.tqdm` instead to force console mode (e.g. in jupyter console)\n",
      "  from tqdm.autonotebook import tqdm, trange\n",
      "/home/vi-b-04/CSEChatbot/venv/lib/python3.10/site-packages/huggingface_hub/file_download.py:1132: FutureWarning: `resume_download` is deprecated and will be removed in version 1.0.0. Downloads always resume when possible. If you want to force a new download, use `force_download=True`.\n",
      "  warnings.warn(\n"
     ]
    }
   ],
   "source": [
    "embeddings = HuggingFaceEmbeddings()"
   ]
  },
  {
   "cell_type": "code",
   "execution_count": 6,
   "id": "23989afc-5a10-40da-8ff8-6b9e3e1f6e8d",
   "metadata": {},
   "outputs": [],
   "source": [
    "client = chromadb.HttpClient(host='127.0.0.1', port=1234)\n",
    "db = Chroma(collection_name='test', embedding_function=embeddings, client=client)"
   ]
  },
  {
   "cell_type": "code",
   "execution_count": 7,
   "id": "25cabb23-fed6-473d-949d-31901db2b04c",
   "metadata": {},
   "outputs": [],
   "source": [
    "retriever = db.as_retriever()"
   ]
  },
  {
   "cell_type": "code",
   "execution_count": 8,
   "id": "f8737abd-e765-420d-8d83-dcb8534124b4",
   "metadata": {},
   "outputs": [],
   "source": [
    "def format_docs(docs):\n",
    "    return \"\\n\\n\".join([d.page_content for d in docs])"
   ]
  },
  {
   "cell_type": "markdown",
   "id": "63c2ad67-3e4c-4556-a718-fc7629d5a362",
   "metadata": {},
   "source": [
    "### Runnable Pass Through"
   ]
  },
  {
   "cell_type": "code",
   "execution_count": 9,
   "id": "2a288ffa-dfe1-4f00-8454-81092d2254e3",
   "metadata": {},
   "outputs": [],
   "source": [
    "from langchain_core.runnables import RunnablePassthrough"
   ]
  },
  {
   "cell_type": "markdown",
   "id": "7a959517-78a8-49f2-a529-b4e1cd9b3243",
   "metadata": {},
   "source": [
    "## Prompt Template"
   ]
  },
  {
   "cell_type": "code",
   "execution_count": 10,
   "id": "efbcecb3-7be9-4d86-b78a-450c54243f52",
   "metadata": {},
   "outputs": [],
   "source": [
    "from langchain_core.prompts import ChatPromptTemplate"
   ]
  },
  {
   "cell_type": "code",
   "execution_count": 11,
   "id": "c649f06a-6c55-4ba2-bff0-e3c858443130",
   "metadata": {},
   "outputs": [],
   "source": [
    "prompt = ChatPromptTemplate.from_messages(\n",
    "    [\n",
    "        (\n",
    "            \"system\", \n",
    "            \"\"\"\n",
    "            You are a helpful AI bot. \n",
    "            Answer the questions based on the context provided.\n",
    "\n",
    "            {context}\n",
    "            \"\"\"\n",
    "        ),\n",
    "        (\"human\", \"{question}\"),\n",
    "    ]\n",
    ")"
   ]
  },
  {
   "cell_type": "markdown",
   "id": "9110336a-9532-446d-89e4-950ec517e13c",
   "metadata": {},
   "source": [
    "## LLM"
   ]
  },
  {
   "cell_type": "code",
   "execution_count": 12,
   "id": "e7aaaf74-2712-4142-96a3-4e5133d6b419",
   "metadata": {},
   "outputs": [],
   "source": [
    "from langchain_community.chat_models import ChatOllama"
   ]
  },
  {
   "cell_type": "code",
   "execution_count": 13,
   "id": "31abc0c6-5b61-4584-ab87-b2d907e36235",
   "metadata": {},
   "outputs": [],
   "source": [
    "chat_model = ChatOllama(model='llama3')"
   ]
  },
  {
   "cell_type": "markdown",
   "id": "9904f655-a5e5-4ee4-b349-d271e752c384",
   "metadata": {},
   "source": [
    "## Output Parser"
   ]
  },
  {
   "cell_type": "code",
   "execution_count": 14,
   "id": "7481a706-e7c1-4d50-afd7-c4e186348798",
   "metadata": {},
   "outputs": [],
   "source": [
    "from langchain_core.output_parsers import StrOutputParser"
   ]
  },
  {
   "cell_type": "code",
   "execution_count": 15,
   "id": "c0facc7a-11bd-4326-99e0-d74f8dc03bca",
   "metadata": {},
   "outputs": [],
   "source": [
    "output = StrOutputParser()"
   ]
  },
  {
   "cell_type": "markdown",
   "id": "895662bc-b526-4dda-9909-8fd040d3c826",
   "metadata": {},
   "source": [
    "## Chain"
   ]
  },
  {
   "cell_type": "code",
   "execution_count": 16,
   "id": "300a1621-411f-4004-8ac5-ded72e8f19ce",
   "metadata": {},
   "outputs": [],
   "source": [
    "chain = (\n",
    "    {\"context\": retriever | format_docs, \"question\": RunnablePassthrough()}\n",
    "    | prompt\n",
    "    | chat_model\n",
    "    | output\n",
    ")"
   ]
  },
  {
   "cell_type": "code",
   "execution_count": 17,
   "id": "8cd45845-aabf-45ce-be0f-d0be5c37b1c4",
   "metadata": {},
   "outputs": [
    {
     "data": {
      "text/plain": [
       "'According to the notification, there is no mention of Eid-related holidays. However, it does mention that the Institute will observe a holiday on April 11, 2024, which might be due to Ramzan as per the MAHE circular dated November 24, 2023.'"
      ]
     },
     "execution_count": 17,
     "metadata": {},
     "output_type": "execute_result"
    }
   ],
   "source": [
    "chain.invoke(\"When is the holiday for EID?\")"
   ]
  },
  {
   "cell_type": "code",
   "execution_count": 18,
   "id": "a0fdddab-3d43-464e-b38f-9cf1cd9be3ed",
   "metadata": {},
   "outputs": [
    {
     "data": {
      "text/plain": [
       "'According to Table 1: Schedule of In-Semester Assessment, the assessment plan for this academic year includes:\\n\\n1. MISAC 1 (Surprise Assignment): February 05-10, 2024 - 5 marks\\n2. MISAC2 (Quiz): February 26-March 02, 2024 - 5 marks\\n3. MISAC 3 (Mid-Term Examination): March 18-23, 2024 - 30 marks\\n4. FISAC (Flexible In-Semester Assessment Component): This component includes three types of assessments: Quiz/MCQs, Surprise Assignment, and Take Home Assignment.\\n\\nNote that the exact dates for each assessment may be subject to change, but these are the planned dates according to the syllabus provided.'"
      ]
     },
     "execution_count": 18,
     "metadata": {},
     "output_type": "execute_result"
    }
   ],
   "source": [
    "chain.invoke(\"What is the assessment plan for this academic year?\")"
   ]
  },
  {
   "cell_type": "code",
   "execution_count": 19,
   "id": "bcf1ca41-cf13-4950-a912-4a2cdba097e5",
   "metadata": {},
   "outputs": [
    {
     "name": "stdout",
     "output_type": "stream",
     "text": [
      "According to the notification, the holiday for Ramzan will be on April 10, 2024."
     ]
    }
   ],
   "source": [
    "for chunk in chain.stream('When is the holiday for Ramzan?'):\n",
    "    print(chunk, end='')"
   ]
  },
  {
   "cell_type": "code",
   "execution_count": null,
   "id": "ed3bf6a3-4d48-4033-821e-078331e5ba60",
   "metadata": {},
   "outputs": [],
   "source": []
  }
 ],
 "metadata": {
  "kernelspec": {
   "display_name": "Python 3 (ipykernel)",
   "language": "python",
   "name": "python3"
  },
  "language_info": {
   "codemirror_mode": {
    "name": "ipython",
    "version": 3
   },
   "file_extension": ".py",
   "mimetype": "text/x-python",
   "name": "python",
   "nbconvert_exporter": "python",
   "pygments_lexer": "ipython3",
   "version": "3.10.12"
  }
 },
 "nbformat": 4,
 "nbformat_minor": 5
}
