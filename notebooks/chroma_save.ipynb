{
 "cells": [
  {
   "cell_type": "code",
   "execution_count": 1,
   "id": "83250339-0b9e-41a7-afa8-3db736397f7f",
   "metadata": {},
   "outputs": [],
   "source": [
    "import chromadb\n",
    "from langchain_community.vectorstores import Chroma\n",
    "from langchain_community.document_loaders import DirectoryLoader\n",
    "from langchain_community.embeddings import HuggingFaceEmbeddings\n",
    "from langchain_text_splitters import CharacterTextSplitter"
   ]
  },
  {
   "cell_type": "code",
   "execution_count": 2,
   "id": "5960f822-cbe1-45e2-8945-46bee68cc5fb",
   "metadata": {},
   "outputs": [],
   "source": [
    "loader = DirectoryLoader(\n",
    "    './../Context Documents',\n",
    "    show_progress=True, \n",
    "    use_multithreading=True\n",
    ")"
   ]
  },
  {
   "cell_type": "code",
   "execution_count": 3,
   "id": "7a625390-3de4-4ced-bd31-bc3f917bbf43",
   "metadata": {},
   "outputs": [
    {
     "name": "stderr",
     "output_type": "stream",
     "text": [
      "100%|█████████████████████████████████████████████████████████████████████████████████████████████████████████████████████████████████████████████████| 3/3 [00:04<00:00,  1.47s/it]\n",
      "Created a chunk of size 511, which is longer than the specified 500\n"
     ]
    }
   ],
   "source": [
    "documents = loader.load()\n",
    "text_splitter = CharacterTextSplitter(chunk_size=500, chunk_overlap=0)\n",
    "texts = text_splitter.split_documents(documents)"
   ]
  },
  {
   "cell_type": "code",
   "execution_count": 4,
   "id": "53ba82bd-9ca9-41c1-b122-34f2a42df500",
   "metadata": {},
   "outputs": [
    {
     "name": "stderr",
     "output_type": "stream",
     "text": [
      "/home/vi-b-04/CSEChatbot/venv/lib/python3.10/site-packages/sentence_transformers/cross_encoder/CrossEncoder.py:11: TqdmExperimentalWarning: Using `tqdm.autonotebook.tqdm` in notebook mode. Use `tqdm.tqdm` instead to force console mode (e.g. in jupyter console)\n",
      "  from tqdm.autonotebook import tqdm, trange\n",
      "/home/vi-b-04/CSEChatbot/venv/lib/python3.10/site-packages/huggingface_hub/file_download.py:1132: FutureWarning: `resume_download` is deprecated and will be removed in version 1.0.0. Downloads always resume when possible. If you want to force a new download, use `force_download=True`.\n",
      "  warnings.warn(\n"
     ]
    }
   ],
   "source": [
    "embeddings = HuggingFaceEmbeddings()"
   ]
  },
  {
   "cell_type": "code",
   "execution_count": 5,
   "id": "8faf1d86-1f89-422d-8e43-c6a2e5cbe533",
   "metadata": {},
   "outputs": [],
   "source": [
    "client = chromadb.HttpClient(host='127.0.0.1', port=1234)\n",
    "db = Chroma.from_documents(texts, embeddings, collection_name='test_chroma', client=client)"
   ]
  },
  {
   "cell_type": "code",
   "execution_count": 7,
   "id": "8b5547d6-ef59-436d-b653-a80f44789550",
   "metadata": {},
   "outputs": [],
   "source": [
    "collection = client.get_or_create_collection('test_chroma')"
   ]
  },
  {
   "cell_type": "code",
   "execution_count": 9,
   "id": "8c2056f8-f716-41b6-9a66-e61603ac8666",
   "metadata": {},
   "outputs": [
    {
     "data": {
      "text/plain": [
       "{'ids': ['0f8e4ae0-7d8b-45ef-ac5c-fac7bedee100',\n",
       "  '1004fac1-435a-4fbf-b500-2cfcaf8b37fc',\n",
       "  '1e0449cb-8031-47d4-bc40-23b884767305',\n",
       "  '46f5bec1-2c8d-426d-a934-6ee75bf5e285',\n",
       "  '4e0b33e1-696c-44d5-adad-85c1a23267ed',\n",
       "  '4ea169d9-4769-4f4d-9d08-730881ad9b2d',\n",
       "  '5d0f53e6-7fb3-461a-a652-168e7227f1ad',\n",
       "  '60b25889-6ae5-4576-8126-c4102185c50a',\n",
       "  '74b29585-d59e-4423-b8e8-cf4b50a48a0e',\n",
       "  '8a06f718-5214-4c4e-97bd-bb414c15cbac',\n",
       "  '911cb7f3-f5a9-49f9-9b0d-d7d25bf84e3b',\n",
       "  'a16a1de1-e5e4-4cea-afb3-cc4c133b3555',\n",
       "  'a94b7d4e-a06f-4efa-86ca-ddb5df8d1aa1',\n",
       "  'aca3b2cb-2e04-4404-93a7-9d3f3f8409c3',\n",
       "  'bb741014-07bc-4d61-8b73-ede1d57a3ac8',\n",
       "  'bc0e87d8-6d3b-4988-ba4d-70bdc9525cfb',\n",
       "  'c1930ce0-6701-4812-8929-ddfd582dbfde',\n",
       "  'c48321a7-113b-47c9-a927-4e87ad463bd3',\n",
       "  'd871514d-8f8e-412f-be67-9d9905d524fa',\n",
       "  'e29bdfb1-cc7e-44ff-99d4-2e63200b569c',\n",
       "  'e35cf8a7-08b1-420c-901c-9230e5cac7c8'],\n",
       " 'embeddings': None,\n",
       " 'metadatas': [{'source': '../Context Documents/Notices/AttachmentNotice3conv.pdf'},\n",
       "  {'source': '../Context Documents/Notices/AttachmentNotice3conv.pdf'},\n",
       "  {'source': '../Context Documents/Notices/AttachmentNotice3conv.pdf'},\n",
       "  {'source': '../Context Documents/Notices/AttachmentNotice1conv.pdf'},\n",
       "  {'source': '../Context Documents/Notices/AttachmentNotice3conv.pdf'},\n",
       "  {'source': '../Context Documents/Notices/AttachmentNotice3conv.pdf'},\n",
       "  {'source': '../Context Documents/Notices/AttachmentNotice3conv.pdf'},\n",
       "  {'source': '../Context Documents/Notices/AttachmentNotice3conv.pdf'},\n",
       "  {'source': '../Context Documents/Notices/AttachmentNotice3conv.pdf'},\n",
       "  {'source': '../Context Documents/Notices/AttachmentNotice3conv.pdf'},\n",
       "  {'source': '../Context Documents/Notices/AttachmentNotice3conv.pdf'},\n",
       "  {'source': '../Context Documents/Notices/AttachmentNotice2conv.pdf'},\n",
       "  {'source': '../Context Documents/Notices/AttachmentNotice3conv.pdf'},\n",
       "  {'source': '../Context Documents/Notices/AttachmentNotice1conv.pdf'},\n",
       "  {'source': '../Context Documents/Notices/AttachmentNotice3conv.pdf'},\n",
       "  {'source': '../Context Documents/Notices/AttachmentNotice3conv.pdf'},\n",
       "  {'source': '../Context Documents/Notices/AttachmentNotice2conv.pdf'},\n",
       "  {'source': '../Context Documents/Notices/AttachmentNotice3conv.pdf'},\n",
       "  {'source': '../Context Documents/Notices/AttachmentNotice3conv.pdf'},\n",
       "  {'source': '../Context Documents/Notices/AttachmentNotice3conv.pdf'},\n",
       "  {'source': '../Context Documents/Notices/AttachmentNotice3conv.pdf'}],\n",
       " 'documents': [\"Quiz/MCQs\\n\\nSurprise Assignment\\n\\nTake Home Assignment\\n\\nSimilar to MISAC 3: Quiz/MCQs * Number of Questions: 20 * Time duration: 30 minutes Similar Surprise to MISAC 1: assignment * Time Duration: 30 minutes * * MONTH in advance. * questions.\\n\\nTEN questions will be given to each student'\\n\\nQuestions will be given to the students at least A\\n\\nStudents have to write the answers to all the\\n\\nD.\\n\\nE.\\n\\nG.\\n\\nGroup Assignment\\n\\nSeminar\\n\\nQuiz Assignment based invited talks Development of Software / Apps\\n\\n/\\n\\non\",\n",
       "  'Syllabus — Topics covered during January 29, 2024 — February 16, 2024 *Number of questions: 10; Duration: 15 minutes *To be conducted during the regular class hours\\n\\nMISAC3 • Mid — term Examination\\n\\n30\\n\\nConducted during the week as mentioned in table 1 *Syllabus — Topics covered during January 03, 2024 — March 09, 2024. *Question paper template will be announced soon and the conduction is as per the prevailing mode\\n\\nTable 1: Schedule of In-Semester Assessment\\n\\nComponent\\n\\nType\\n\\nMax. Marks',\n",
       "  '3) If a student is absent for any ONE of the components out of MISAC Ir MISAC 2 and FISAC for genuine reasonsz the pro-rated marks will be awarded to the missed component based on the marks scored in the other TWO components only if the student submits the approval from the HOD. The prorating has to be done as per the examples 1 or 2 given below. Example 1: If a student is absent for a) MISAC 1 or b) MISAC 2, then\\n\\nIf a)\\n\\nMarks in MISAC 2 + Marks in FISAC\\n\\nMarks in MISAC 1 =\\n\\n3\\n\\nOr If b)',\n",
       "  'Ref: MIT/ ADA/ Notice/033/2023-24\\n\\nDate: February Oln 2024\\n\\nNOTIFICATION\\n\\nAttention: All Students of the Institute\\n\\nIt is hereby informed that the institute will observe holiday on April 11,\\n\\n2024 on account of Ramzan as per MAHE circular dt. November 24, 2023.\\n\\nYou are also requested to note that April 10, 2024 is a working day and all\\n\\nthe classes will be held as per the timetable.\\n\\nRaviraj Associate Director Dr.\\n\\nsociate Director (Academics) ,ANIPAL INSTITUTE OF TECHNOLOGY\\n\\nManipal - 576 104',\n",
       "  'Schedule of ISAC: The different components of the In-Semester Assessment will be conducted as per the following schedule:\\n\\nNo Type 1. MISAC 1:\\n\\nSurprise Assignment\\n\\nMarks\\n\\n5\\n\\nDescription',\n",
       "  '2) Other In-semester assessment components (MISAC 1 & 2 and FISAC) will not be conducted\\n\\nagain, if the students miss any of them.',\n",
       "  '* (at least A MONTH before the scheduled date of submission) * Students have to develop the software / mobile apps using the appropriate software language / platform and submit a report on the same. * Faculty has to define the problem statement. * Problem Statements are to be given well in advance in (at least A MONTH before the due date for submission) * Students have to develop prototypes/models\\n\\nFaculty has to define the problem statement. Problem Statements are to be given well in advance',\n",
       "  'Flexible In-Semester Assessment Component (FISAC):\\n\\ni) ONE of the components mentioned in Table 3 is to be selected by the faculty. ii) The type of assessment should be informed to the students well in advance. iii) Syllabus for the last component of In-semester Assessment (ISAC) i.e. FISAC should cover the topics mentioned for self-study if any / topics which are not covered till MISAC 3: Quiz\\n\\nTable 3: Types of Flexible In-Semester Assessment Component (FISAC)\\n\\nNo\\n\\nType\\n\\nDescription\\n\\nB.\\n\\nc.',\n",
       "  'there are 3 to 4 students in each group. * * MONTH before) * design, report writing, writing reflection article of their understanding on a journal paper given by the faculty to each group etc. * relevant to the course of study. * * * in the courses of study. * seminar topic and submit a report. * minutes using Power Point. *Faculty have to arrange for the invited talk in the emerging areas in the courses of study. *Quiz / Assignment is to be conducted on the topic of the invited talk.',\n",
       "  'The students have to be grouped in such a way that\\n\\nEach group is to be given one question.\\n\\nQuestions are to be given well in advance (at least A\\n\\nThe questions may be in the form of case studies,',\n",
       "  'Conducted during the week as mentioned in table 1 *Syllabus — Topics covered during January 03 - 27, 2024 *Students are allowed to refer their hand-written note book. Use of electronic gadgets / photocopies of notes / notes written on sheets are not allowed. * Duration — 20 minutes * Assessment has to be conducted during the regular class hours.\\n\\n2.\\n\\nMISAC 2: Quiz/MCQs\\n\\n5',\n",
       "  'dates for all the B. Tech./ M. Tech./ MCA programmes.\\n\\nFebruary 21, 2024, Wednesday Saturday Time Table.\\n\\nMarch 26, 2024, Tuesday\\n\\nFriday Time Table,\\n\\nMarch 27, 2024, Wednesday Saturday Time Table\\n\\nAssociate\\n\\nTo:\\n\\nManipal - 576 104\\n\\nAll the Heads of Department, to inform the students\\n\\nCopy to:\\n\\nDirector, Joint Director- for information.\\n\\nPhone:+91-0820 2924014\\n\\nemail:ada.mit@manipal.edu/ravi.adhikari@manipal.edu',\n",
       "  'MANIPAL INSTITUTE OF TECHNOLOGY, MANIPAL\\n\\nIn-Semester Assessment Plan and Schedule for VI Sem B Tech (AY: 2023-24)\\n\\nIn-Semester Assessment Components (ISAC): In-Semester Assessment Components are classified into two categories: 1) Mandatory In-Semester Assessment Components (MISAC):\\n\\nMISAC l: Surprise Assignment MISAC 2: Quiz\\n\\nMISAC 3: Mid-term Examination\\n\\n2) Flexible In-Semester Assessment Component (FISAC):\\n\\nONE of the components mentioned in Table 3 is to be selected by the faculty.',\n",
       "  \"All the Heads of Department\\n\\nPhone.'+91-0820 2924014\\n\\nemail:ada.mit@manipal.edu /ravi.adhikari@manipal.edu\",\n",
       "  '(physical/software based)\\n\\nhas to be submitted by the students * individual student has to be assessed and evaluated. If it is a group activity, the contribution of each\\n\\nA report covering all important aspects of the project\\n\\nGeneral Guidelines: 1) The MISAC 3: Mid-term Examination will be conducted again during the last two weeks of the semester after the working hours, for those students who are absent due to valid reasons and with the approval from the Associate Director — Academics.',\n",
       "  'course\\n\\nAssociate\\n\\nr — Academics\\n\\nJanuary 27, 2024\\n\\nDr, Raviraja Adhikari Associate Director (Academics) MANIPAL INSTITUTE OF TECHNOLOGY Manipal - 576 104',\n",
       "  'MANIPAL INSTITUTE OF TECHNOLOGY MANIPAL A Constituent Unir ofMAHE, Manpal\\n\\nACADEMIC SECTION\\n\\nRef: MIT/ADA/ Notice/ 032/2023-24\\n\\nDate: February 01, 2024\\n\\nNOTIFICATION Attention: Faculty members and students of the institute\\n\\nIt is observed that due to holidays, a few classes scheduled on Fridays and\\n\\nSaturdays are missed during the semester.\\n\\nIn order to compensate for the missed classes (Theory and Laboratory), the\\n\\nbelow mentioned timetable will be followed by the institute on specified',\n",
       "  'Schedule\\n\\nMISAC 1\\n\\nSurprise Assignment\\n\\n5\\n\\nFebruary 05 - 10, 2024\\n\\nMISAC2\\n\\nQuiz\\n\\n5\\n\\nFebruary 26 — March 02, 2024\\n\\nMISAC 3\\n\\nMid-Term Examination\\n\\n30\\n\\nMarch 18 - 23, 2024\\n\\nFISAC\\n\\nFrom Table 3\\n\\n10\\n\\nApril 01-06, 2024\\n\\nMandatory In-Semester Assessment Components (MISAC): These components of MISAC are common to all the courses. The guidelines for conducting the MISACs are as indicated in Table 2.\\n\\nTable 2: Guidelines for the conduction of Mandatory In-Semester Assessment Components',\n",
       "  'Marks in MISAC 1 + Marks in FISAC\\n\\nMarks in MISAC 2\\n\\n3\\n\\nExample 2: If a student is absent for FISAC (only if it is A/B/F as in table 3)\\n\\nMarks in FISAC = Marks in MISAC 1 + Marks in MISAC 2\\n\\nNOTE: However, the student has to submit an assignment consisting of THREE questions in that course.\\n\\nIMPORTANT NOTE: No prorating is permitted, if a student misses FISAC & if it is C/D/E/_G/H as in table 3',\n",
       "  'Mini Project',\n",
       "  '4) If a student is absent for any TWO components of assessments out of MISAC 1, MISAC 2 and FISAC due to genuine reasons, ZERO marks will be awarded to one of the components for which the student is absent. The prorated marks will be awarded to the other component by using the appropriate logic as given in the examples 1 or 2, only if the student submits the approval from the HoD. Otherwise it is also taken as ZERO. NOTE: However, the student has to submit an assignment consisting of FIVE questions in that'],\n",
       " 'data': None,\n",
       " 'uris': None,\n",
       " 'included': ['metadatas', 'documents']}"
      ]
     },
     "execution_count": 9,
     "metadata": {},
     "output_type": "execute_result"
    }
   ],
   "source": [
    "collection.get()"
   ]
  },
  {
   "cell_type": "code",
   "execution_count": null,
   "id": "8e3ccd85-74fb-4a0d-b7f7-1bc51426923d",
   "metadata": {},
   "outputs": [],
   "source": []
  }
 ],
 "metadata": {
  "kernelspec": {
   "display_name": "Python 3 (ipykernel)",
   "language": "python",
   "name": "python3"
  },
  "language_info": {
   "codemirror_mode": {
    "name": "ipython",
    "version": 3
   },
   "file_extension": ".py",
   "mimetype": "text/x-python",
   "name": "python",
   "nbconvert_exporter": "python",
   "pygments_lexer": "ipython3",
   "version": "3.10.12"
  }
 },
 "nbformat": 4,
 "nbformat_minor": 5
}
